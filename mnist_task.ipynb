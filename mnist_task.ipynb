{
 "cells": [
  {
   "cell_type": "code",
   "execution_count": 1,
   "id": "3eeb144f",
   "metadata": {},
   "outputs": [],
   "source": [
    "\n",
    "# importing libraries\n",
    "import numpy as np\n",
    "import pandas as pd\n",
    "from sklearn.datasets import load_iris\n",
    "from sklearn.model_selection import train_test_split\n",
    "from sklearn.tree import DecisionTreeClassifier\n",
    "from sklearn import tree\n",
    "from sklearn.metrics import confusion_matrix, f1_score, precision_score, recall_score\n",
    "\n",
    "from sklearn.tree import DecisionTreeClassifier\n",
    "from sklearn.ensemble import BaggingClassifier\n",
    "from sklearn.ensemble import RandomForestClassifier\n",
    "from sklearn.ensemble import AdaBoostClassifier\n",
    "\n",
    "# for visualisation\n",
    "import matplotlib.pyplot as plt\n",
    "from sklearn.tree import export_graphviz\n",
    "from IPython.display import Image  \n",
    "from subprocess import call\n",
    "\n",
    "# Load MNIST dataset\n",
    "from keras.datasets import mnist"
   ]
  },
  {
   "cell_type": "code",
   "execution_count": 2,
   "id": "bdbacebb",
   "metadata": {},
   "outputs": [],
   "source": [
    "### Split the training data into traing, validation and test set \n",
    "\n",
    "(x_train, y_train), (x_test, y_test) = mnist.load_data()\n",
    "x_train, x_val, y_train, y_val = train_test_split(x_train, y_train, test_size=0.25, random_state=0)\n",
    "\n",
    "# Training set: The purpose is used to train the model to make the desired accurate predictions\n",
    "# Development set: The purpose is to assess if the model is generalising well to data not in the training set\n",
    "# Test set: The purpose is to assess the performance and accuracy of the model on unseen data "
   ]
  },
  {
   "cell_type": "code",
   "execution_count": 16,
   "id": "d878a003",
   "metadata": {},
   "outputs": [],
   "source": [
    "x_train = np.reshape(x_train, (45000, 784))\n",
    "x_val = np.reshape(x_val, (15000, 28*28))\n",
    "x_test = np.reshape(x_test, (10000, 28*28))"
   ]
  },
  {
   "cell_type": "code",
   "execution_count": 17,
   "id": "3468adeb",
   "metadata": {},
   "outputs": [
    {
     "name": "stdout",
     "output_type": "stream",
     "text": [
      "(15000, 784)\n",
      "(45000,)\n"
     ]
    }
   ],
   "source": [
    "print(x_val.shape)\n",
    "print(y_train.shape)"
   ]
  },
  {
   "cell_type": "code",
   "execution_count": 18,
   "id": "9bb1df92",
   "metadata": {},
   "outputs": [],
   "source": [
    "### Use the random forest classifier to create a classification model \n",
    "\n",
    "rfc = RandomForestClassifier()\n",
    "model = rfc.fit(x_train, y_train)"
   ]
  },
  {
   "cell_type": "code",
   "execution_count": 21,
   "id": "95d58523",
   "metadata": {},
   "outputs": [],
   "source": [
    "# I will pick the max_depth parameter to tune because with the \n",
    "# development data that I also have generated from the dataset,\n",
    "# I can assess the models performance against data not seen in the training\n",
    "# set and therefore try and spot any under or overfitting. \n",
    "# I can then prune the tree to the optimum depth. "
   ]
  },
  {
   "cell_type": "code",
   "execution_count": 27,
   "id": "37a8c2a0",
   "metadata": {},
   "outputs": [],
   "source": [
    "# Function that prints value of max_depth that leads to the highest accuracy \n",
    "def random_forest_tuning(x_training, y_training, x_dev, y_dev):\n",
    "    \n",
    "    score_list = []\n",
    "    max_depth_list = []\n",
    "    \n",
    "    # For values of n from 1 - 100, create a random forest model with\n",
    "    # variable 'max_depth' values and calculate the accuracy \n",
    "    for n in range(1, 101):\n",
    "        \n",
    "        random_forest = RandomForestClassifier(max_depth=n)\n",
    "        random_forest.fit(x_training, y_training)\n",
    "        \n",
    "        score = random_forest.score(x_dev, y_dev)\n",
    "        \n",
    "        score_list.append(score)\n",
    "        max_depth_list.append(n)\n",
    "\n",
    "        \n",
    "    # Find the most accurate model and it's 'n_estimators'/'max_depth' value\n",
    "    best_score = max(score_list)\n",
    "    best_score_index = score_list.index(best_score)\n",
    "    \n",
    "    best_max = max_depth_list[best_score_index]\n",
    "    \n",
    "    print(\"Best accuracy is: \", best_score)\n",
    "    print(\"Best max_depth is: \", best_max)"
   ]
  },
  {
   "cell_type": "code",
   "execution_count": 28,
   "id": "5328e728",
   "metadata": {},
   "outputs": [
    {
     "name": "stdout",
     "output_type": "stream",
     "text": [
      "Best accuracy is:  0.9696666666666667\n",
      "Best max_depth is:  85\n"
     ]
    }
   ],
   "source": [
    "random_forest_tuning(x_train, y_train, x_val, y_val)"
   ]
  },
  {
   "cell_type": "code",
   "execution_count": 29,
   "id": "d24d502b",
   "metadata": {},
   "outputs": [],
   "source": [
    "# Value for max_depth chosen is: 85\n",
    "# This value leads to the model which performs the most accurately \n",
    "# on the development data\n",
    "# The model accuracy when the max_depth is 85 = 0.97 "
   ]
  },
  {
   "cell_type": "code",
   "execution_count": 31,
   "id": "9805eb81",
   "metadata": {},
   "outputs": [
    {
     "data": {
      "text/html": [
       "<style>#sk-container-id-1 {color: black;background-color: white;}#sk-container-id-1 pre{padding: 0;}#sk-container-id-1 div.sk-toggleable {background-color: white;}#sk-container-id-1 label.sk-toggleable__label {cursor: pointer;display: block;width: 100%;margin-bottom: 0;padding: 0.3em;box-sizing: border-box;text-align: center;}#sk-container-id-1 label.sk-toggleable__label-arrow:before {content: \"▸\";float: left;margin-right: 0.25em;color: #696969;}#sk-container-id-1 label.sk-toggleable__label-arrow:hover:before {color: black;}#sk-container-id-1 div.sk-estimator:hover label.sk-toggleable__label-arrow:before {color: black;}#sk-container-id-1 div.sk-toggleable__content {max-height: 0;max-width: 0;overflow: hidden;text-align: left;background-color: #f0f8ff;}#sk-container-id-1 div.sk-toggleable__content pre {margin: 0.2em;color: black;border-radius: 0.25em;background-color: #f0f8ff;}#sk-container-id-1 input.sk-toggleable__control:checked~div.sk-toggleable__content {max-height: 200px;max-width: 100%;overflow: auto;}#sk-container-id-1 input.sk-toggleable__control:checked~label.sk-toggleable__label-arrow:before {content: \"▾\";}#sk-container-id-1 div.sk-estimator input.sk-toggleable__control:checked~label.sk-toggleable__label {background-color: #d4ebff;}#sk-container-id-1 div.sk-label input.sk-toggleable__control:checked~label.sk-toggleable__label {background-color: #d4ebff;}#sk-container-id-1 input.sk-hidden--visually {border: 0;clip: rect(1px 1px 1px 1px);clip: rect(1px, 1px, 1px, 1px);height: 1px;margin: -1px;overflow: hidden;padding: 0;position: absolute;width: 1px;}#sk-container-id-1 div.sk-estimator {font-family: monospace;background-color: #f0f8ff;border: 1px dotted black;border-radius: 0.25em;box-sizing: border-box;margin-bottom: 0.5em;}#sk-container-id-1 div.sk-estimator:hover {background-color: #d4ebff;}#sk-container-id-1 div.sk-parallel-item::after {content: \"\";width: 100%;border-bottom: 1px solid gray;flex-grow: 1;}#sk-container-id-1 div.sk-label:hover label.sk-toggleable__label {background-color: #d4ebff;}#sk-container-id-1 div.sk-serial::before {content: \"\";position: absolute;border-left: 1px solid gray;box-sizing: border-box;top: 0;bottom: 0;left: 50%;z-index: 0;}#sk-container-id-1 div.sk-serial {display: flex;flex-direction: column;align-items: center;background-color: white;padding-right: 0.2em;padding-left: 0.2em;position: relative;}#sk-container-id-1 div.sk-item {position: relative;z-index: 1;}#sk-container-id-1 div.sk-parallel {display: flex;align-items: stretch;justify-content: center;background-color: white;position: relative;}#sk-container-id-1 div.sk-item::before, #sk-container-id-1 div.sk-parallel-item::before {content: \"\";position: absolute;border-left: 1px solid gray;box-sizing: border-box;top: 0;bottom: 0;left: 50%;z-index: -1;}#sk-container-id-1 div.sk-parallel-item {display: flex;flex-direction: column;z-index: 1;position: relative;background-color: white;}#sk-container-id-1 div.sk-parallel-item:first-child::after {align-self: flex-end;width: 50%;}#sk-container-id-1 div.sk-parallel-item:last-child::after {align-self: flex-start;width: 50%;}#sk-container-id-1 div.sk-parallel-item:only-child::after {width: 0;}#sk-container-id-1 div.sk-dashed-wrapped {border: 1px dashed gray;margin: 0 0.4em 0.5em 0.4em;box-sizing: border-box;padding-bottom: 0.4em;background-color: white;}#sk-container-id-1 div.sk-label label {font-family: monospace;font-weight: bold;display: inline-block;line-height: 1.2em;}#sk-container-id-1 div.sk-label-container {text-align: center;}#sk-container-id-1 div.sk-container {/* jupyter's `normalize.less` sets `[hidden] { display: none; }` but bootstrap.min.css set `[hidden] { display: none !important; }` so we also need the `!important` here to be able to override the default hidden behavior on the sphinx rendered scikit-learn.org. See: https://github.com/scikit-learn/scikit-learn/issues/21755 */display: inline-block !important;position: relative;}#sk-container-id-1 div.sk-text-repr-fallback {display: none;}</style><div id=\"sk-container-id-1\" class=\"sk-top-container\"><div class=\"sk-text-repr-fallback\"><pre>RandomForestClassifier(max_depth=85)</pre><b>In a Jupyter environment, please rerun this cell to show the HTML representation or trust the notebook. <br />On GitHub, the HTML representation is unable to render, please try loading this page with nbviewer.org.</b></div><div class=\"sk-container\" hidden><div class=\"sk-item\"><div class=\"sk-estimator sk-toggleable\"><input class=\"sk-toggleable__control sk-hidden--visually\" id=\"sk-estimator-id-1\" type=\"checkbox\" checked><label for=\"sk-estimator-id-1\" class=\"sk-toggleable__label sk-toggleable__label-arrow\">RandomForestClassifier</label><div class=\"sk-toggleable__content\"><pre>RandomForestClassifier(max_depth=85)</pre></div></div></div></div></div>"
      ],
      "text/plain": [
       "RandomForestClassifier(max_depth=85)"
      ]
     },
     "execution_count": 31,
     "metadata": {},
     "output_type": "execute_result"
    }
   ],
   "source": [
    "# Create final model with optimum max depth\n",
    "\n",
    "final_model = RandomForestClassifier(max_depth=85)\n",
    "final_model.fit(x_train, y_train)"
   ]
  },
  {
   "cell_type": "code",
   "execution_count": 32,
   "id": "033736b2",
   "metadata": {},
   "outputs": [],
   "source": [
    "# Make predictions on test data\n",
    "preds = final_model.predict(x_test)"
   ]
  },
  {
   "cell_type": "code",
   "execution_count": 42,
   "id": "3443e710",
   "metadata": {},
   "outputs": [
    {
     "data": {
      "text/plain": [
       "<sklearn.metrics._plot.confusion_matrix.ConfusionMatrixDisplay at 0x2c778f340>"
      ]
     },
     "execution_count": 42,
     "metadata": {},
     "output_type": "execute_result"
    },
    {
     "data": {
      "image/png": "[encoded data removed]",
      "text/plain": [
       "<Figure size 640x480 with 2 Axes>"
      ]
     },
     "metadata": {},
     "output_type": "display_data"
    }
   ],
   "source": [
    "### Print confusion matrix for the random forest model on the test set\n",
    "\n",
    "# Import plot_confusion_matrix\n",
    "from sklearn.metrics import ConfusionMatrixDisplay\n",
    "\n",
    "conf_mat = confusion_matrix(y_test, preds)\n",
    "display = ConfusionMatrixDisplay(conf_mat)\n",
    "display.plot()"
   ]
  },
  {
   "cell_type": "code",
   "execution_count": 43,
   "id": "26ce86b0",
   "metadata": {},
   "outputs": [],
   "source": [
    "### Report which classes the model struggles with most \n",
    "# On my visual assessment model seemed to struggle the most with:\n",
    "# 4's - mistaking them for 9's \n",
    "# 5's - mistaking them for 3's \n",
    "# 7's - mistaking them for 2's"
   ]
  },
  {
   "cell_type": "code",
   "execution_count": 44,
   "id": "08e8d8ef",
   "metadata": {},
   "outputs": [
    {
     "name": "stdout",
     "output_type": "stream",
     "text": [
      "              precision    recall  f1-score   support\n",
      "\n",
      "           0       0.97      0.99      0.98       980\n",
      "           1       0.99      0.99      0.99      1135\n",
      "           2       0.96      0.97      0.96      1032\n",
      "           3       0.96      0.96      0.96      1010\n",
      "           4       0.97      0.97      0.97       982\n",
      "           5       0.97      0.95      0.96       892\n",
      "           6       0.97      0.98      0.97       958\n",
      "           7       0.97      0.96      0.97      1028\n",
      "           8       0.96      0.95      0.95       974\n",
      "           9       0.96      0.95      0.95      1009\n",
      "\n",
      "    accuracy                           0.97     10000\n",
      "   macro avg       0.97      0.97      0.97     10000\n",
      "weighted avg       0.97      0.97      0.97     10000\n",
      "\n"
     ]
    }
   ],
   "source": [
    "### Report accuracy, precision, recall and f1 score \n",
    "\n",
    "# Calculate the class by class precision, recall and f1-score\n",
    "from sklearn.metrics import classification_report\n",
    " \n",
    "print(classification_report(y_test, preds))"
   ]
  },
  {
   "cell_type": "code",
   "execution_count": 45,
   "id": "ffde36df",
   "metadata": {},
   "outputs": [],
   "source": [
    "# Looking at the f1 score for each class it seems apparent that\n",
    "# contrary to my visual assessment, the model seemed to struggle\n",
    "# the most with 8's and 9's "
   ]
  },
  {
   "cell_type": "code",
   "execution_count": 46,
   "id": "d7ede9f4",
   "metadata": {},
   "outputs": [],
   "source": [
    "# The overall accuracy, precision, recall and f1 score were:"
   ]
  },
  {
   "cell_type": "code",
   "execution_count": 63,
   "id": "6476ced7",
   "metadata": {},
   "outputs": [],
   "source": [
    "score = final_model.score(x_test, y_test)\n",
    "precision = precision_score(y_test, preds, average='micro')\n",
    "recall = recall_score(y_test, preds, average='micro')\n",
    "f1_score = f1_score(y_test, preds, average='micro')"
   ]
  },
  {
   "cell_type": "code",
   "execution_count": 64,
   "id": "17bec199",
   "metadata": {},
   "outputs": [
    {
     "name": "stdout",
     "output_type": "stream",
     "text": [
      "Overall accuracy is 96.75%\n",
      "Overall precision is 96.75%\n",
      "Overall recall is 96.75%\n",
      "Overall f1 score is 96.75%\n"
     ]
    }
   ],
   "source": [
    "print(f\"Overall accuracy is {round(score * 100, 2)}%\")\n",
    "print(f\"Overall precision is {round(precision * 100, 2)}%\")\n",
    "print(f\"Overall recall is {round(recall * 100, 2)}%\")\n",
    "print(f\"Overall f1 score is {round(f1_score * 100, 2)}%\")"
   ]
  },
  {
   "cell_type": "code",
   "execution_count": null,
   "id": "6884cee1",
   "metadata": {},
   "outputs": [],
   "source": []
  }
 ],
 "metadata": {
  "kernelspec": {
   "display_name": "Python 3 (ipykernel)",
   "language": "python",
   "name": "python3"
  },
  "language_info": {
   "codemirror_mode": {
    "name": "ipython",
    "version": 3
   },
   "file_extension": ".py",
   "mimetype": "text/x-python",
   "name": "python",
   "nbconvert_exporter": "python",
   "pygments_lexer": "ipython3",
   "version": "3.10.4"
  }
 },
 "nbformat": 4,
 "nbformat_minor": 5
}
